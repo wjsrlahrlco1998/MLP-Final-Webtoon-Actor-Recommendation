{
 "cells": [
  {
   "cell_type": "raw",
   "id": "60a21bfa",
   "metadata": {},
   "source": [
    "패키지 설치\n",
    "!pip install img2vec_pytorch"
   ]
  },
  {
   "cell_type": "markdown",
   "id": "13b15754",
   "metadata": {},
   "source": [
    "## 1. 패키지 로드"
   ]
  },
  {
   "cell_type": "code",
   "execution_count": 1,
   "id": "80cac1da",
   "metadata": {},
   "outputs": [],
   "source": [
    "import cv2\n",
    "import numpy as np\n",
    "import pandas as pd\n",
    "from matplotlib import pyplot as plt\n",
    "from tqdm import tqdm_notebook\n",
    "import re\n",
    "import dlib\n",
    "\n",
    "from img2vec_pytorch import Img2Vec\n",
    "from PIL import Image\n",
    "from sklearn.metrics.pairwise import cosine_similarity\n",
    "\n",
    "import warnings # 경고문 무시\n",
    "warnings.filterwarnings('ignore')"
   ]
  },
  {
   "cell_type": "markdown",
   "id": "cb6c5d95",
   "metadata": {},
   "source": [
    "## 2. 클래스 정의"
   ]
  },
  {
   "cell_type": "code",
   "execution_count": 2,
   "id": "76a08f90",
   "metadata": {},
   "outputs": [],
   "source": [
    "class CImg:\n",
    "    def __init__(self):\n",
    "        '''init class'''\n",
    "        self.img2vec = Img2Vec(cuda=True)\n",
    "  \n",
    "    def img_to_rgb(self, image):\n",
    "        '''convert image to rgb'''\n",
    "        image = cv2.cvtColor(image, cv2.COLOR_BGR2RGB)\n",
    "\n",
    "        return image\n",
    "\n",
    "    def img_to_bgr(self, image):\n",
    "        '''convert image to bgr'''\n",
    "        image = cv2.cvtColor(image, cv2.COLOR_RGB2BGR)\n",
    "\n",
    "        return image\n",
    "\n",
    "    def img_adjust(self, image, brightness = 0, contrast = 30):\n",
    "        '''adjust image'''\n",
    "        image = np.int16(image)\n",
    "        image = image * (contrast / 127 + 1) - contrast + brightness\n",
    "        image = np.clip(image, 0, 255)\n",
    "        image = np.uint8(image)\n",
    "\n",
    "        return image\n",
    "\n",
    "    def img_resize(self, image, size = 256):\n",
    "        '''resize image'''\n",
    "        image = cv2.resize(image, (size, size))\n",
    "\n",
    "        return image\n",
    "    \n",
    "    def pil_to_cv(self, pil_image):\n",
    "        '''PIL -> cv2'''\n",
    "        numpy_image = np.array(pil_image)\n",
    "        cv_image = cv2.cvtColor(numpy_image, cv2.COLOR_RGB2BGR)\n",
    "\n",
    "        return cv_image\n",
    "    \n",
    "    def cv_to_pil(self, cv_image):\n",
    "        '''cv2 -> PIL'''\n",
    "        color_coverted = cv2.cvtColor(cv_image, cv2.COLOR_BGR2RGB)\n",
    "        pil_image = Image.fromarray(color_coverted)\n",
    "        return pil_image\n",
    "    \n",
    "    def img_face_align(self, image, size = 256, padding = 0.65):\n",
    "        '''face align image'''\n",
    "        detector = dlib.get_frontal_face_detector()\n",
    "        sp = dlib.shape_predictor('../util/shape_predictor_5_face_landmarks.dat')\n",
    "        dets = detector(image)\n",
    "        if dets:\n",
    "            pass\n",
    "        else:\n",
    "            #print(\"No detect face\")\n",
    "            return image\n",
    "        s = sp(image, dets[0])\n",
    "        image = dlib.get_face_chip(image, s, size=size, padding=padding)\n",
    "\n",
    "        return image\n",
    "\n",
    "    def img_compare(self, image_1, image_2):\n",
    "        '''compare image'''\n",
    "        image_1_vec = self.img2vec.get_vec(image_1, tensor=False)\n",
    "        image_2_vec = self.img2vec.get_vec(image_2, tensor=False)\n",
    "        \n",
    "        image_1_vec = image_1_vec.reshape(1, -1)\n",
    "        image_2_vec = image_2_vec.reshape(1, -1)\n",
    "        \n",
    "        return cosine_similarity(image_1_vec, image_2_vec)[0][0]\n",
    "\n",
    "\n",
    "    def run_image_compare(self, image_1, image_2, size = 256, padding = 0.65, ratio = 0.75, brightness = 0, contrast = 30, show=False):\n",
    "        '''compare image'''\n",
    "        image_1 = self.img_to_rgb(image_1)\n",
    "        image_1 = self.img_adjust(image_1, brightness=brightness, contrast=contrast)\n",
    "        image_1 = self.img_resize(image_1, size=size)\n",
    "        image_1 = self.img_face_align(image_1, size=size, padding=padding)\n",
    "        image_1 = self.img_to_bgr(image_1)\n",
    "        image_1 = self.cv_to_pil(image_1)\n",
    "        \n",
    "        image_2 = self.img_to_rgb(image_2)\n",
    "        image_2 = self.img_adjust(image_2, brightness=brightness, contrast=contrast)\n",
    "        image_2 = self.img_resize(image_2, size=size)\n",
    "        image_2 = self.img_face_align(image_2, size=size, padding=padding)\n",
    "        image_2 = self.img_to_bgr(image_2)\n",
    "        image_2 = self.cv_to_pil(image_2)\n",
    "        \n",
    "        similarity = self.img_compare(image_1, image_2)\n",
    "\n",
    "        return similarity\n",
    "\n",
    "    def run(self, actor, webtoon, actor_image_path, webtoon_image_path):\n",
    "        '''calculate all actor images and webtoon images similarity '''\n",
    "        actor_df = actor.copy()\n",
    "        webtoon_df = webtoon.copy()\n",
    "        \n",
    "        # webtoon name list and actor name list\n",
    "        webtoon_names = webtoon_df['Title'].unique()\n",
    "        actor_name_list = actor_df['Name'].to_list()\n",
    "        actor_male_name_list = actor_df[actor_df['Sex'] == '남'].Name.to_list()\n",
    "        actor_female_name_list = actor_df[actor_df['Sex'] == '여'].Name.to_list()\n",
    "        \n",
    "        # result dataframe\n",
    "        result_df = actor_df[['Name', 'Age', 'Sex']]\n",
    "        \n",
    "        for webtoon_name in tqdm_notebook(webtoon_names):\n",
    "            try:\n",
    "                # get characters's names from webtoon name\n",
    "                charater_names = webtoon_df[webtoon_df['Title'] == webtoon_name]['Character'].to_list()\n",
    "\n",
    "                # calculate actors's images and characters's images\n",
    "                for charater_name in charater_names:\n",
    "                    try:\n",
    "                        # character's image load \n",
    "                        character_image = cv2.imread(f'{webtoon_image_path}/{webtoon_name}_{charater_name}.jpg', flags=cv2.IMREAD_COLOR)\n",
    "\n",
    "                        # get character's sex, age\n",
    "                        character_sex = webtoon_df[webtoon_df['Character'] == charater_name]['Sex'].values[0]\n",
    "                        character_age = webtoon_df[webtoon_df['Character'] == charater_name]['Age'].values[0]\n",
    "                        character_age = int(re.sub('[^0-9]', '', character_age))\n",
    "                    \n",
    "                        # calculation according to sex\n",
    "                        if character_sex == '남':\n",
    "                            for actor_name in actor_male_name_list:\n",
    "                                actor_age = int(actor_df[actor_df['Name'] == actor_name]['Age'].values[0])\n",
    "                                if (character_age < actor_age) and (character_age + 20 > actor_age):\n",
    "                                    actor_image = cv2.imread(f'{actor_image_path}/webtoon_{actor_name}.jpg', flags=cv2.IMREAD_COLOR)\n",
    "                                    n_sim = self.run_image_compare(actor_image, character_image)\n",
    "                                    result_df.loc[(result_df['Name'] == actor_name), f'{webtoon_name}_{charater_name}_image_score'] = n_sim\n",
    "                        elif character_sex == '여':\n",
    "                            for actor_name in actor_female_name_list:\n",
    "                                actor_age = int(actor_df[actor_df['Name'] == actor_name]['Age'].values[0])\n",
    "                                if (character_age < actor_age) and (character_age + 20 > actor_age):\n",
    "                                    actor_image = cv2.imread(f'{actor_image_path}/webtoon_{actor_name}.jpg', flags=cv2.IMREAD_COLOR)\n",
    "                                    n_sim = self.run_image_compare(actor_image, character_image)\n",
    "                                    result_df.loc[(result_df['Name'] == actor_name), f'{webtoon_name}_{charater_name}_image_score'] = n_sim\n",
    "                        else: # if, sex == NaN\n",
    "                            for actor_name in actor_name_list:\n",
    "                                actor_age = int(actor_df[actor_df['Name'] == actor_name]['Age'].values[0])\n",
    "                                if (character_age < actor_age) and (character_age + 20 > actor_age):\n",
    "                                    actor_image = cv2.imread(f'{actor_image_path}/webtoon_{actor_name}.jpg', flags=cv2.IMREAD_COLOR)\n",
    "                                    n_sim = self.run_image_compare(actor_image, character_image)\n",
    "                                    result_df.loc[(result_df['Name'] == actor_name), f'{webtoon_name}_{charater_name}_image_score'] = n_sim\n",
    "                    except:\n",
    "                        print(f'{charater_name} Error')\n",
    "            except Exception as e:\n",
    "                print(e)\n",
    "                print(f'{webtoon_name} Error')\n",
    "                \n",
    "        \n",
    "        return result_df"
   ]
  },
  {
   "cell_type": "markdown",
   "id": "b0360eef",
   "metadata": {},
   "source": [
    "## 3. 이미지 로드"
   ]
  },
  {
   "cell_type": "code",
   "execution_count": 3,
   "id": "ea6db4cd",
   "metadata": {},
   "outputs": [],
   "source": [
    "actor_image_path = '../image_data/Actor2Webtoon'\n",
    "webtoon_image_path = '../image_data/Webtoon'"
   ]
  },
  {
   "cell_type": "code",
   "execution_count": 4,
   "id": "3bbbfbfc",
   "metadata": {
    "scrolled": true
   },
   "outputs": [],
   "source": [
    "actor_image = cv2.imread(f'{actor_image_path}/webtoon_감우성.jpg')\n",
    "webtoon_image = cv2.imread(f'{webtoon_image_path}/폭풍의전학생_주인공.jpg')"
   ]
  },
  {
   "cell_type": "code",
   "execution_count": 5,
   "id": "ea5f2a94",
   "metadata": {},
   "outputs": [],
   "source": [
    "img = CImg()"
   ]
  },
  {
   "cell_type": "code",
   "execution_count": 6,
   "id": "16cae4db",
   "metadata": {},
   "outputs": [
    {
     "data": {
      "text/plain": [
       "0.66000986"
      ]
     },
     "execution_count": 6,
     "metadata": {},
     "output_type": "execute_result"
    }
   ],
   "source": [
    "img.run_image_compare(actor_image, webtoon_image)"
   ]
  },
  {
   "cell_type": "markdown",
   "id": "8b0f8058",
   "metadata": {},
   "source": [
    "## 4. for문"
   ]
  },
  {
   "cell_type": "code",
   "execution_count": 7,
   "id": "8ed95137",
   "metadata": {},
   "outputs": [],
   "source": [
    "actor_data = pd.read_csv('../text_data/Actor.csv', encoding='utf-8-sig')\n",
    "webtoon_data = pd.read_csv('../text_data/Webtoon.csv', encoding='utf-8-sig')"
   ]
  },
  {
   "cell_type": "code",
   "execution_count": null,
   "id": "65311d5d",
   "metadata": {
    "scrolled": true
   },
   "outputs": [
    {
     "data": {
      "application/vnd.jupyter.widget-view+json": {
       "model_id": "ce5b958780d6414294ddd2f2e222f5fb",
       "version_major": 2,
       "version_minor": 0
      },
      "text/plain": [
       "  0%|          | 0/71 [00:00<?, ?it/s]"
      ]
     },
     "metadata": {},
     "output_type": "display_data"
    },
    {
     "name": "stdout",
     "output_type": "stream",
     "text": [
      "공기영 Error\n",
      "벽창오 Error\n",
      "dj.8(팔Eight) Error\n",
      "독고연 Error\n",
      "최개발 Error\n",
      "밥 Error\n",
      "도동남 Error\n",
      "우사미 Error\n",
      "백지미 Error\n",
      "붕어머리남자 Error\n",
      "예민해 Error\n",
      "점쟁이아가씨 Error\n",
      "전진수 Error\n",
      "Dr.에니그마 박사 Error\n",
      "오강남 Error\n",
      "종건 Error\n",
      "동동배 Error\n",
      "두태양 Error\n",
      "이중현 Error\n",
      "유수민 Error\n",
      "주수애 Error\n"
     ]
    }
   ],
   "source": [
    "result_df = img.run(actor_data, webtoon_data, actor_image_path, webtoon_image_path)"
   ]
  },
  {
   "cell_type": "code",
   "execution_count": null,
   "id": "a251e2c5",
   "metadata": {},
   "outputs": [],
   "source": [
    "result_df.to_csv('../text_data/cos_sim_score_df.csv', encoding='utf-8-sig', index=False)"
   ]
  }
 ],
 "metadata": {
  "kernelspec": {
   "display_name": "Python 3 (ipykernel)",
   "language": "python",
   "name": "python3"
  },
  "language_info": {
   "codemirror_mode": {
    "name": "ipython",
    "version": 3
   },
   "file_extension": ".py",
   "mimetype": "text/x-python",
   "name": "python",
   "nbconvert_exporter": "python",
   "pygments_lexer": "ipython3",
   "version": "3.8.12"
  }
 },
 "nbformat": 4,
 "nbformat_minor": 5
}
